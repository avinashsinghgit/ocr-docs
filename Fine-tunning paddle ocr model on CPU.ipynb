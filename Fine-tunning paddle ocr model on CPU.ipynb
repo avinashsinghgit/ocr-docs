{
 "cells": [
  {
   "cell_type": "markdown",
   "id": "5baca7d2",
   "metadata": {},
   "source": [
    "https://docs.support.arc.umich.edu/python/jupyter_virtualenv/"
   ]
  },
  {
   "cell_type": "markdown",
   "id": "b6c5d41b",
   "metadata": {},
   "source": [
    "https://github.com/PaddlePaddle/PaddleOCR/issues/348"
   ]
  },
  {
   "cell_type": "markdown",
   "id": "676b560f",
   "metadata": {},
   "source": [
    "https://github.com/PaddlePaddle/PaddleOCR/blob/static/PPOCRLabel/README_en.md"
   ]
  },
  {
   "cell_type": "markdown",
   "id": "2ebbe79a",
   "metadata": {},
   "source": [
    "https://paddlepaddle.github.io/PaddleOCR/latest/en/ppocr/model_list.html#21-chinese-recognition-model"
   ]
  },
  {
   "cell_type": "markdown",
   "id": "3e500dd7",
   "metadata": {},
   "source": [
    "FUNSD dataset\n",
    "\n",
    "https://guillaumejaume.github.io/FUNSD/download/"
   ]
  },
  {
   "cell_type": "markdown",
   "id": "8e936204",
   "metadata": {},
   "source": [
    "Paddle ocr dataset\n",
    "\n",
    "https://github.com/PaddlePaddle/PaddleOCR/tree/release/2.6/doc/doc_en/dataset"
   ]
  },
  {
   "cell_type": "code",
   "execution_count": null,
   "id": "708e0fec",
   "metadata": {},
   "outputs": [],
   "source": []
  },
  {
   "cell_type": "code",
   "execution_count": null,
   "id": "003aee4f",
   "metadata": {},
   "outputs": [],
   "source": []
  },
  {
   "cell_type": "code",
   "execution_count": null,
   "id": "38841904",
   "metadata": {},
   "outputs": [],
   "source": []
  },
  {
   "cell_type": "code",
   "execution_count": null,
   "id": "f9f6d3b1",
   "metadata": {},
   "outputs": [],
   "source": []
  },
  {
   "cell_type": "code",
   "execution_count": 3,
   "id": "1bb345aa",
   "metadata": {},
   "outputs": [
    {
     "name": "stdout",
     "output_type": "stream",
     "text": [
      "Looking in indexes: https://pypi.tuna.tsinghua.edu.cn/simple\n",
      "Collecting paddlepaddle==2.6.1\n",
      "  Downloading https://pypi.tuna.tsinghua.edu.cn/packages/41/7e/ac23d5e93fd1ae472271f5b3a54dbb373fa61027db18f9ac3813c53310bb/paddlepaddle-2.6.1-cp311-cp311-macosx_11_0_arm64.whl (65.6 MB)\n",
      "\u001b[2K     \u001b[90m━━━━━━━━━━━━━━━━━━━━━━━━━━━━━━━━━━━━━━━━\u001b[0m \u001b[32m65.6/65.6 MB\u001b[0m \u001b[31m10.6 MB/s\u001b[0m eta \u001b[36m0:00:00\u001b[0m00:01\u001b[0m00:01\u001b[0m\n",
      "\u001b[?25hRequirement already satisfied: httpx in /Users/avinash/anaconda3/lib/python3.11/site-packages (from paddlepaddle==2.6.1) (0.27.0)\n",
      "Requirement already satisfied: numpy>=1.13 in /Users/avinash/anaconda3/lib/python3.11/site-packages (from paddlepaddle==2.6.1) (1.26.4)\n",
      "Requirement already satisfied: Pillow in /Users/avinash/anaconda3/lib/python3.11/site-packages (from paddlepaddle==2.6.1) (10.3.0)\n",
      "Requirement already satisfied: decorator in /Users/avinash/anaconda3/lib/python3.11/site-packages (from paddlepaddle==2.6.1) (4.4.2)\n",
      "Collecting astor (from paddlepaddle==2.6.1)\n",
      "  Downloading https://pypi.tuna.tsinghua.edu.cn/packages/c3/88/97eef84f48fa04fbd6750e62dcceafba6c63c81b7ac1420856c8dcc0a3f9/astor-0.8.1-py2.py3-none-any.whl (27 kB)\n",
      "Requirement already satisfied: opt-einsum==3.3.0 in /Users/avinash/anaconda3/lib/python3.11/site-packages (from paddlepaddle==2.6.1) (3.3.0)\n",
      "Requirement already satisfied: protobuf>=3.20.2 in /Users/avinash/anaconda3/lib/python3.11/site-packages (from paddlepaddle==2.6.1) (5.27.3)\n",
      "Requirement already satisfied: anyio in /Users/avinash/anaconda3/lib/python3.11/site-packages (from httpx->paddlepaddle==2.6.1) (3.5.0)\n",
      "Requirement already satisfied: certifi in /Users/avinash/anaconda3/lib/python3.11/site-packages (from httpx->paddlepaddle==2.6.1) (2024.8.30)\n",
      "Requirement already satisfied: httpcore==1.* in /Users/avinash/anaconda3/lib/python3.11/site-packages (from httpx->paddlepaddle==2.6.1) (1.0.5)\n",
      "Requirement already satisfied: idna in /Users/avinash/anaconda3/lib/python3.11/site-packages (from httpx->paddlepaddle==2.6.1) (2.10)\n",
      "Requirement already satisfied: sniffio in /Users/avinash/anaconda3/lib/python3.11/site-packages (from httpx->paddlepaddle==2.6.1) (1.3.0)\n",
      "Requirement already satisfied: h11<0.15,>=0.13 in /Users/avinash/anaconda3/lib/python3.11/site-packages (from httpcore==1.*->httpx->paddlepaddle==2.6.1) (0.14.0)\n",
      "Installing collected packages: astor, paddlepaddle\n",
      "Successfully installed astor-0.8.1 paddlepaddle-2.6.1\n"
     ]
    }
   ],
   "source": [
    "! python -m pip install paddlepaddle==2.6.1 -i https://pypi.tuna.tsinghua.edu.cn/simple"
   ]
  },
  {
   "cell_type": "code",
   "execution_count": 6,
   "id": "d56fdf80",
   "metadata": {},
   "outputs": [
    {
     "name": "stdout",
     "output_type": "stream",
     "text": [
      "Collecting shapely (from -r /Users/avinash/Desktop/ocr/requirements.txt (line 1))\n",
      "  Downloading shapely-2.0.6-cp311-cp311-macosx_11_0_arm64.whl.metadata (7.0 kB)\n",
      "Collecting imgaug (from -r /Users/avinash/Desktop/ocr/requirements.txt (line 2))\n",
      "  Downloading imgaug-0.4.0-py2.py3-none-any.whl.metadata (1.8 kB)\n",
      "Collecting pyclipper (from -r /Users/avinash/Desktop/ocr/requirements.txt (line 3))\n",
      "  Downloading pyclipper-1.3.0.post6-cp311-cp311-macosx_10_9_universal2.whl.metadata (9.0 kB)\n",
      "Requirement already satisfied: lmdb in /Users/avinash/anaconda3/lib/python3.11/site-packages (from -r /Users/avinash/Desktop/ocr/requirements.txt (line 4)) (1.4.1)\n",
      "Requirement already satisfied: tqdm in /Users/avinash/anaconda3/lib/python3.11/site-packages (from -r /Users/avinash/Desktop/ocr/requirements.txt (line 5)) (4.66.4)\n",
      "Requirement already satisfied: numpy in /Users/avinash/anaconda3/lib/python3.11/site-packages (from -r /Users/avinash/Desktop/ocr/requirements.txt (line 6)) (1.26.4)\n",
      "\u001b[31mERROR: Ignored the following yanked versions: 3.4.11.39, 3.4.17.61, 4.4.0.42, 4.4.0.44, 4.5.4.58, 4.5.5.62, 4.7.0.68\u001b[0m\u001b[31m\n",
      "\u001b[0m\u001b[31mERROR: Could not find a version that satisfies the requirement opencv-python==4.2.0.32 (from versions: 3.4.0.14, 3.4.10.37, 3.4.11.41, 3.4.11.43, 3.4.11.45, 3.4.13.47, 3.4.15.55, 3.4.16.57, 3.4.16.59, 3.4.17.63, 3.4.18.65, 4.3.0.38, 4.4.0.40, 4.4.0.46, 4.5.1.48, 4.5.3.56, 4.5.4.60, 4.5.5.64, 4.6.0.66, 4.7.0.72, 4.8.0.74, 4.8.0.76, 4.8.1.78, 4.9.0.80, 4.10.0.82, 4.10.0.84)\u001b[0m\u001b[31m\n",
      "\u001b[0m\u001b[31mERROR: No matching distribution found for opencv-python==4.2.0.32\u001b[0m\u001b[31m\n",
      "\u001b[0m"
     ]
    }
   ],
   "source": [
    "! pip install -r \"/Users/avinash/Desktop/ocr/requirements.txt\""
   ]
  },
  {
   "cell_type": "code",
   "execution_count": 7,
   "id": "3303bac8",
   "metadata": {},
   "outputs": [
    {
     "name": "stdout",
     "output_type": "stream",
     "text": [
      "Python 3.11.5\r\n"
     ]
    }
   ],
   "source": [
    "! python --version"
   ]
  },
  {
   "cell_type": "markdown",
   "id": "e7e60511",
   "metadata": {},
   "source": [
    "model list:\n",
    "    \n",
    "https://github.com/PaddlePaddle/PaddleOCR/blob/release/2.7/doc/doc_en/models_list_en.md"
   ]
  },
  {
   "cell_type": "code",
   "execution_count": null,
   "id": "5f232de3",
   "metadata": {},
   "outputs": [],
   "source": []
  },
  {
   "cell_type": "code",
   "execution_count": null,
   "id": "ab3b1157",
   "metadata": {},
   "outputs": [],
   "source": []
  },
  {
   "cell_type": "markdown",
   "id": "4b72fdf3",
   "metadata": {},
   "source": [
    "## en_PP-OCRv3_rec\t"
   ]
  },
  {
   "cell_type": "code",
   "execution_count": null,
   "id": "63834c12",
   "metadata": {},
   "outputs": [],
   "source": []
  },
  {
   "cell_type": "code",
   "execution_count": null,
   "id": "c4801fe9",
   "metadata": {},
   "outputs": [],
   "source": []
  },
  {
   "cell_type": "code",
   "execution_count": null,
   "id": "ce3fb365",
   "metadata": {},
   "outputs": [],
   "source": []
  },
  {
   "cell_type": "code",
   "execution_count": null,
   "id": "af406209",
   "metadata": {},
   "outputs": [],
   "source": []
  },
  {
   "cell_type": "code",
   "execution_count": null,
   "id": "6fd58a4b",
   "metadata": {},
   "outputs": [],
   "source": []
  },
  {
   "cell_type": "code",
   "execution_count": null,
   "id": "d1582dbc",
   "metadata": {},
   "outputs": [],
   "source": []
  },
  {
   "cell_type": "code",
   "execution_count": null,
   "id": "ad4f3985",
   "metadata": {},
   "outputs": [],
   "source": []
  },
  {
   "cell_type": "code",
   "execution_count": null,
   "id": "9dc629d0",
   "metadata": {},
   "outputs": [],
   "source": []
  },
  {
   "cell_type": "code",
   "execution_count": null,
   "id": "59a454c4",
   "metadata": {},
   "outputs": [],
   "source": []
  },
  {
   "cell_type": "code",
   "execution_count": null,
   "id": "60f37846",
   "metadata": {},
   "outputs": [],
   "source": []
  },
  {
   "cell_type": "code",
   "execution_count": null,
   "id": "325e937a",
   "metadata": {},
   "outputs": [],
   "source": []
  },
  {
   "cell_type": "code",
   "execution_count": null,
   "id": "76a45548",
   "metadata": {},
   "outputs": [],
   "source": []
  },
  {
   "cell_type": "code",
   "execution_count": null,
   "id": "4f84802d",
   "metadata": {},
   "outputs": [],
   "source": []
  },
  {
   "cell_type": "code",
   "execution_count": null,
   "id": "5a139b56",
   "metadata": {},
   "outputs": [],
   "source": []
  },
  {
   "cell_type": "code",
   "execution_count": null,
   "id": "6af016c4",
   "metadata": {},
   "outputs": [],
   "source": []
  },
  {
   "cell_type": "code",
   "execution_count": null,
   "id": "96a46c31",
   "metadata": {},
   "outputs": [],
   "source": []
  },
  {
   "cell_type": "code",
   "execution_count": null,
   "id": "506881e8",
   "metadata": {},
   "outputs": [],
   "source": []
  },
  {
   "cell_type": "code",
   "execution_count": null,
   "id": "f2b1de4e",
   "metadata": {},
   "outputs": [],
   "source": []
  },
  {
   "cell_type": "code",
   "execution_count": null,
   "id": "d9ff1761",
   "metadata": {},
   "outputs": [],
   "source": []
  },
  {
   "cell_type": "code",
   "execution_count": null,
   "id": "e1c1d012",
   "metadata": {},
   "outputs": [],
   "source": []
  },
  {
   "cell_type": "code",
   "execution_count": null,
   "id": "6bc4c68c",
   "metadata": {},
   "outputs": [],
   "source": []
  },
  {
   "cell_type": "code",
   "execution_count": null,
   "id": "3c786ea0",
   "metadata": {},
   "outputs": [],
   "source": []
  },
  {
   "cell_type": "code",
   "execution_count": null,
   "id": "4806b5c8",
   "metadata": {},
   "outputs": [],
   "source": []
  },
  {
   "cell_type": "code",
   "execution_count": null,
   "id": "53821d87",
   "metadata": {},
   "outputs": [],
   "source": []
  },
  {
   "cell_type": "code",
   "execution_count": null,
   "id": "11808a72",
   "metadata": {},
   "outputs": [],
   "source": []
  },
  {
   "cell_type": "code",
   "execution_count": null,
   "id": "b8078983",
   "metadata": {},
   "outputs": [],
   "source": []
  }
 ],
 "metadata": {
  "kernelspec": {
   "display_name": "venv",
   "language": "python",
   "name": "venv"
  },
  "language_info": {
   "codemirror_mode": {
    "name": "ipython",
    "version": 3
   },
   "file_extension": ".py",
   "mimetype": "text/x-python",
   "name": "python",
   "nbconvert_exporter": "python",
   "pygments_lexer": "ipython3",
   "version": "3.11.5"
  }
 },
 "nbformat": 4,
 "nbformat_minor": 5
}
